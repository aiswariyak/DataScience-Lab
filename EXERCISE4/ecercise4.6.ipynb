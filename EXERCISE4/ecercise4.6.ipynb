{
 "cells": [
  {
   "cell_type": "code",
   "execution_count": 13,
   "id": "c513462a",
   "metadata": {},
   "outputs": [
    {
     "name": "stdout",
     "output_type": "stream",
     "text": [
      "before sorting\n",
      "    name  mark\n",
      "0   aish    40\n",
      "1   ravi    45\n",
      "2   manu    35\n",
      "3  beena    51\n",
      "after sorting\n",
      "    name  mark\n",
      "2   manu    35\n",
      "0   aish    40\n",
      "1   ravi    45\n",
      "3  beena    51\n"
     ]
    }
   ],
   "source": [
    "import pandas as pd\n",
    "data=[['aish',40],['ravi',45],['manu',35],['beena',51]]\n",
    "df=pd.DataFrame(data,columns=['name','mark'])\n",
    "print(\"before sorting\")\n",
    "print(df)\n",
    "print(\"after sorting\")\n",
    "df1=df.sort_values(by = ['mark'])\n",
    "print(df1)"
   ]
  },
  {
   "cell_type": "code",
   "execution_count": null,
   "id": "e9f1f5b3",
   "metadata": {},
   "outputs": [],
   "source": []
  }
 ],
 "metadata": {
  "kernelspec": {
   "display_name": "Python 3 (ipykernel)",
   "language": "python",
   "name": "python3"
  },
  "language_info": {
   "codemirror_mode": {
    "name": "ipython",
    "version": 3
   },
   "file_extension": ".py",
   "mimetype": "text/x-python",
   "name": "python",
   "nbconvert_exporter": "python",
   "pygments_lexer": "ipython3",
   "version": "3.9.7"
  }
 },
 "nbformat": 4,
 "nbformat_minor": 5
}
