{
 "cells": [
  {
   "cell_type": "code",
   "execution_count": 18,
   "id": "6839370b",
   "metadata": {},
   "outputs": [
    {
     "name": "stdout",
     "output_type": "stream",
     "text": [
      "dataframe with costum indexing\n",
      "    name  mark\n",
      "1   aish    40\n",
      "2   ravi    45\n",
      "3   manu    35\n",
      "4  beena    51\n",
      "   index   name  mark\n",
      "0      1   aish    40\n",
      "1      2   ravi    45\n",
      "2      3   manu    35\n",
      "3      4  beena    51\n"
     ]
    }
   ],
   "source": [
    "import pandas as pd\n",
    "data=[['aish',40],['ravi',45],['manu',35],['beena',51]]\n",
    "df=pd.DataFrame(data,columns=['name','mark'],index=[1,2,3,4])\n",
    "print(\"dataframe with costum indexing\")\n",
    "print(df)\n",
    "df1=df.reset_index()\n",
    "print(df1)"
   ]
  },
  {
   "cell_type": "code",
   "execution_count": null,
   "id": "c102ec1d",
   "metadata": {},
   "outputs": [],
   "source": []
  }
 ],
 "metadata": {
  "kernelspec": {
   "display_name": "Python 3 (ipykernel)",
   "language": "python",
   "name": "python3"
  },
  "language_info": {
   "codemirror_mode": {
    "name": "ipython",
    "version": 3
   },
   "file_extension": ".py",
   "mimetype": "text/x-python",
   "name": "python",
   "nbconvert_exporter": "python",
   "pygments_lexer": "ipython3",
   "version": "3.9.7"
  }
 },
 "nbformat": 4,
 "nbformat_minor": 5
}
