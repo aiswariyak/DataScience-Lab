{
 "cells": [
  {
   "cell_type": "code",
   "execution_count": 10,
   "id": "e79c6e07",
   "metadata": {},
   "outputs": [
    {
     "name": "stdout",
     "output_type": "stream",
     "text": [
      "\n",
      "DATAFRAME 1\n",
      "\n",
      "   eid  ename  stipend\n",
      "0    1   Arun    10000\n",
      "1    2   Abhi    15000\n",
      "2    3  Sidhi     7000\n",
      "\n",
      "DATAFRAME 2\n",
      "\n",
      "   eid designation\n",
      "0    1     Teacher\n",
      "1    2         HOD\n",
      "2    3   Librarian\n",
      "\n",
      "MERGED DATAFRAME \n"
     ]
    },
    {
     "data": {
      "text/html": [
       "<div>\n",
       "<style scoped>\n",
       "    .dataframe tbody tr th:only-of-type {\n",
       "        vertical-align: middle;\n",
       "    }\n",
       "\n",
       "    .dataframe tbody tr th {\n",
       "        vertical-align: top;\n",
       "    }\n",
       "\n",
       "    .dataframe thead th {\n",
       "        text-align: right;\n",
       "    }\n",
       "</style>\n",
       "<table border=\"1\" class=\"dataframe\">\n",
       "  <thead>\n",
       "    <tr style=\"text-align: right;\">\n",
       "      <th></th>\n",
       "      <th>eid</th>\n",
       "      <th>ename</th>\n",
       "      <th>stipend</th>\n",
       "      <th>position</th>\n",
       "    </tr>\n",
       "  </thead>\n",
       "  <tbody>\n",
       "    <tr>\n",
       "      <th>0</th>\n",
       "      <td>1</td>\n",
       "      <td>Arun</td>\n",
       "      <td>10000</td>\n",
       "      <td>Teacher</td>\n",
       "    </tr>\n",
       "    <tr>\n",
       "      <th>1</th>\n",
       "      <td>2</td>\n",
       "      <td>Abhi</td>\n",
       "      <td>15000</td>\n",
       "      <td>HOD</td>\n",
       "    </tr>\n",
       "    <tr>\n",
       "      <th>2</th>\n",
       "      <td>3</td>\n",
       "      <td>Sidhi</td>\n",
       "      <td>7000</td>\n",
       "      <td>Librarian</td>\n",
       "    </tr>\n",
       "  </tbody>\n",
       "</table>\n",
       "</div>"
      ],
      "text/plain": [
       "   eid  ename  stipend   position\n",
       "0    1   Arun    10000    Teacher\n",
       "1    2   Abhi    15000        HOD\n",
       "2    3  Sidhi     7000  Librarian"
      ]
     },
     "execution_count": 10,
     "metadata": {},
     "output_type": "execute_result"
    }
   ],
   "source": [
    "import pandas as pd\n",
    "\n",
    "l1=[[1,'Arun',10000],[2,'Abhi',15000],[3,'Sidhi',7000]]\n",
    "df=pd.DataFrame(l1,columns=['eid','ename','stipend'])\n",
    "print(\"\\nDATAFRAME 1\\n\")\n",
    "print(df)\n",
    "\n",
    "l2=[[1,'Teacher'],[2,'HOD'],[3,'Librarian']]\n",
    "df1=pd.DataFrame(l2,columns=['eid','designation'])\n",
    "print(\"\\nDATAFRAME 2\\n\")\n",
    "print(df1)\n",
    "\n",
    "l3 = pd.merge(df, df1, how = 'inner', on = 'eid') \n",
    "l3.rename(columns={'designation':'position'}, inplace = True)\n",
    "print(\"\\nMERGED DATAFRAME \")\n",
    "l3\n"
   ]
  },
  {
   "cell_type": "code",
   "execution_count": null,
   "id": "41d7bc8e",
   "metadata": {},
   "outputs": [],
   "source": []
  },
  {
   "cell_type": "code",
   "execution_count": null,
   "id": "ffa0269c",
   "metadata": {},
   "outputs": [],
   "source": []
  }
 ],
 "metadata": {
  "kernelspec": {
   "display_name": "Python 3 (ipykernel)",
   "language": "python",
   "name": "python3"
  },
  "language_info": {
   "codemirror_mode": {
    "name": "ipython",
    "version": 3
   },
   "file_extension": ".py",
   "mimetype": "text/x-python",
   "name": "python",
   "nbconvert_exporter": "python",
   "pygments_lexer": "ipython3",
   "version": "3.9.7"
  }
 },
 "nbformat": 4,
 "nbformat_minor": 5
}
