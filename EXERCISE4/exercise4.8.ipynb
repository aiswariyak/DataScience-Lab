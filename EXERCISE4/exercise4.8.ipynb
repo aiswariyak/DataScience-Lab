{
 "cells": [
  {
   "cell_type": "code",
   "execution_count": 1,
   "id": "3503a26c",
   "metadata": {},
   "outputs": [
    {
     "name": "stdout",
     "output_type": "stream",
     "text": [
      "    name  mark\n",
      "0   aish    40\n",
      "1   ravi    45\n",
      "2   manu    35\n",
      "3  beena    51\n",
      "first two rows\n",
      "   name  mark\n",
      "0  aish    40\n",
      "1  ravi    45\n"
     ]
    }
   ],
   "source": [
    "import pandas as pd\n",
    "data=[['aish',40],['ravi',45],['manu',35],['beena',51]]\n",
    "df=pd.DataFrame(data,columns=['name','mark'])\n",
    "print(df)\n",
    "print(\"first two rows\")\n",
    "df1=df.head(2)\n",
    "print(df1)"
   ]
  },
  {
   "cell_type": "code",
   "execution_count": null,
   "id": "611cb87d",
   "metadata": {},
   "outputs": [],
   "source": []
  }
 ],
 "metadata": {
  "kernelspec": {
   "display_name": "Python 3 (ipykernel)",
   "language": "python",
   "name": "python3"
  },
  "language_info": {
   "codemirror_mode": {
    "name": "ipython",
    "version": 3
   },
   "file_extension": ".py",
   "mimetype": "text/x-python",
   "name": "python",
   "nbconvert_exporter": "python",
   "pygments_lexer": "ipython3",
   "version": "3.9.7"
  }
 },
 "nbformat": 4,
 "nbformat_minor": 5
}
