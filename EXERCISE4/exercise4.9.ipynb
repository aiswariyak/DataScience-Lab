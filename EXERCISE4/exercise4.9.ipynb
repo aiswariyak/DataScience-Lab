{
 "cells": [
  {
   "cell_type": "code",
   "execution_count": 4,
   "id": "6286b899",
   "metadata": {},
   "outputs": [
    {
     "name": "stdout",
     "output_type": "stream",
     "text": [
      "\n",
      "avg salary per occupation\n",
      "\n",
      "occupation\n",
      "driver      4000.0\n",
      "teacher    45500.0\n",
      "Name: salary, dtype: float64\n"
     ]
    }
   ],
   "source": [
    "import pandas as pd\n",
    "data=[['aish','teacher',40000],['ravi','driver',4500],['manu','driver',3500],['beena','teacher',51000]]\n",
    "df=pd.DataFrame(data,columns=['name','occupation','salary'])\n",
    "\n",
    "print(\"\\navg salary per occupation\\n\")\n",
    "avg =  df.groupby('occupation')['salary'].mean()\n",
    "print(avg)"
   ]
  },
  {
   "cell_type": "code",
   "execution_count": null,
   "id": "9e6e0767",
   "metadata": {},
   "outputs": [],
   "source": []
  }
 ],
 "metadata": {
  "kernelspec": {
   "display_name": "Python 3 (ipykernel)",
   "language": "python",
   "name": "python3"
  },
  "language_info": {
   "codemirror_mode": {
    "name": "ipython",
    "version": 3
   },
   "file_extension": ".py",
   "mimetype": "text/x-python",
   "name": "python",
   "nbconvert_exporter": "python",
   "pygments_lexer": "ipython3",
   "version": "3.9.7"
  }
 },
 "nbformat": 4,
 "nbformat_minor": 5
}
