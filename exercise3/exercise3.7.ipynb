{
 "cells": [
  {
   "cell_type": "code",
   "execution_count": 6,
   "id": "63528037",
   "metadata": {},
   "outputs": [
    {
     "data": {
      "image/png": "[encoded data removed]",
      "text/plain": [
       "<Figure size 432x288 with 1 Axes>"
      ]
     },
     "metadata": {
      "needs_background": "light"
     },
     "output_type": "display_data"
    }
   ],
   "source": [
    "import matplotlib.pyplot as plt\n",
    "import numpy as np\n",
    "x=['G1','G2','G3','G4','G5']\n",
    "x_axis = np.arange(len(x))\n",
    "men=[22, 30, 35, 35, 26]\n",
    "women=[25, 32, 30, 35, 29]\n",
    "plt.bar(x_axis-0.2,men,width=0.4,label=\"men\")\n",
    "plt.bar(x_axis+0.2,women,width=0.4,label=\"women\")\n",
    "plt.xticks(x_axis,x)\n",
    "plt.xlabel(\"person\")\n",
    "plt.ylabel(\"scores\")\n",
    "plt.legend()\n",
    "plt.title(\"Scores by person\")\n",
    "plt.show()"
   ]
  },
  {
   "cell_type": "code",
   "execution_count": null,
   "id": "9de1e167",
   "metadata": {},
   "outputs": [],
   "source": []
  }
 ],
 "metadata": {
  "kernelspec": {
   "display_name": "Python 3 (ipykernel)",
   "language": "python",
   "name": "python3"
  },
  "language_info": {
   "codemirror_mode": {
    "name": "ipython",
    "version": 3
   },
   "file_extension": ".py",
   "mimetype": "text/x-python",
   "name": "python",
   "nbconvert_exporter": "python",
   "pygments_lexer": "ipython3",
   "version": "3.9.7"
  }
 },
 "nbformat": 4,
 "nbformat_minor": 5
}
